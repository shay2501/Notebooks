{
  "cells": [
    {
      "metadata": {
        "trusted": true
      },
      "cell_type": "code",
      "source": "def tribonacci(signature, n):\n  \n  trib = []\n  \n  if(n > 0 and len(signature) == 3):\n  \n      trib = signature\n      \n      for i in range(3,n,1):\n        trib.append(trib[i-1] + trib[i-2] + trib[i-3])\n  \n  return trib[:n]",
      "execution_count": 15,
      "outputs": []
    },
    {
      "metadata": {
        "trusted": true
      },
      "cell_type": "code",
      "source": "print(tribonacci([1, 1, 1], 10))\n",
      "execution_count": 16,
      "outputs": [
        {
          "output_type": "stream",
          "text": "3\n4\n5\n6\n7\n8\n9\n[1, 1, 1, 3, 5, 9, 17, 31, 57, 105]\n[1, 1, 1, 3, 5, 9, 17, 31, 57, 105]\n",
          "name": "stdout"
        }
      ]
    },
    {
      "metadata": {
        "trusted": true
      },
      "cell_type": "code",
      "source": "",
      "execution_count": null,
      "outputs": []
    }
  ],
  "metadata": {
    "kernelspec": {
      "name": "python36",
      "display_name": "Python 3.6",
      "language": "python"
    },
    "language_info": {
      "mimetype": "text/x-python",
      "nbconvert_exporter": "python",
      "name": "python",
      "pygments_lexer": "ipython3",
      "version": "3.6.6",
      "file_extension": ".py",
      "codemirror_mode": {
        "version": 3,
        "name": "ipython"
      }
    }
  },
  "nbformat": 4,
  "nbformat_minor": 2
}