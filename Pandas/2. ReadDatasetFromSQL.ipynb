{
  "cells": [
    {
      "metadata": {
        "trusted": true
      },
      "cell_type": "code",
      "source": "#import necessary dependencies\nfrom sqlalchemy import create_engine\nimport random as rand\nimport pandas as pd\n#creating an engine with a file that doesn't exist will \n#create it locally on commit\nengine = create_engine('sqlite:///gwhiz.db', echo=True)",
      "execution_count": 25,
      "outputs": []
    },
    {
      "metadata": {
        "trusted": true
      },
      "cell_type": "code",
      "source": "#programmatically create a dataset with random data\nnames = ['Ringo', 'John', 'Paul', 'George'] \nreport = {}\n\nfor n in names:\n    grades = []\n    for i in range(5):\n        grades.append(rand.choice(range(50,100)))\n    report[n] = grades\n    \nreport",
      "execution_count": 26,
      "outputs": [
        {
          "output_type": "execute_result",
          "execution_count": 26,
          "data": {
            "text/plain": "{'Ringo': [53, 81, 90, 82, 91],\n 'John': [51, 81, 61, 62, 98],\n 'Paul': [95, 99, 55, 88, 76],\n 'George': [75, 90, 88, 90, 96]}"
          },
          "metadata": {}
        }
      ]
    },
    {
      "metadata": {
        "trusted": true
      },
      "cell_type": "code",
      "source": "#create a dataframe from the dataset object\ndf = pd.DataFrame(report)\ndf",
      "execution_count": 27,
      "outputs": [
        {
          "output_type": "execute_result",
          "execution_count": 27,
          "data": {
            "text/html": "<div>\n<style scoped>\n    .dataframe tbody tr th:only-of-type {\n        vertical-align: middle;\n    }\n\n    .dataframe tbody tr th {\n        vertical-align: top;\n    }\n\n    .dataframe thead th {\n        text-align: right;\n    }\n</style>\n<table border=\"1\" class=\"dataframe\">\n  <thead>\n    <tr style=\"text-align: right;\">\n      <th></th>\n      <th>Ringo</th>\n      <th>John</th>\n      <th>Paul</th>\n      <th>George</th>\n    </tr>\n  </thead>\n  <tbody>\n    <tr>\n      <th>0</th>\n      <td>53</td>\n      <td>51</td>\n      <td>95</td>\n      <td>75</td>\n    </tr>\n    <tr>\n      <th>1</th>\n      <td>81</td>\n      <td>81</td>\n      <td>99</td>\n      <td>90</td>\n    </tr>\n    <tr>\n      <th>2</th>\n      <td>90</td>\n      <td>61</td>\n      <td>55</td>\n      <td>88</td>\n    </tr>\n    <tr>\n      <th>3</th>\n      <td>82</td>\n      <td>62</td>\n      <td>88</td>\n      <td>90</td>\n    </tr>\n    <tr>\n      <th>4</th>\n      <td>91</td>\n      <td>98</td>\n      <td>76</td>\n      <td>96</td>\n    </tr>\n  </tbody>\n</table>\n</div>",
            "text/plain": "   Ringo  John  Paul  George\n0     53    51    95      75\n1     81    81    99      90\n2     90    61    55      88\n3     82    62    88      90\n4     91    98    76      96"
          },
          "metadata": {}
        }
      ]
    },
    {
      "metadata": {
        "trusted": true
      },
      "cell_type": "code",
      "source": "#set the index and the index name\ndf.index = ['math', 'science', 'english', 'art', 'gym']\ndf.index.name = 'classes'\ndf",
      "execution_count": 28,
      "outputs": [
        {
          "output_type": "execute_result",
          "execution_count": 28,
          "data": {
            "text/html": "<div>\n<style scoped>\n    .dataframe tbody tr th:only-of-type {\n        vertical-align: middle;\n    }\n\n    .dataframe tbody tr th {\n        vertical-align: top;\n    }\n\n    .dataframe thead th {\n        text-align: right;\n    }\n</style>\n<table border=\"1\" class=\"dataframe\">\n  <thead>\n    <tr style=\"text-align: right;\">\n      <th></th>\n      <th>Ringo</th>\n      <th>John</th>\n      <th>Paul</th>\n      <th>George</th>\n    </tr>\n    <tr>\n      <th>classes</th>\n      <th></th>\n      <th></th>\n      <th></th>\n      <th></th>\n    </tr>\n  </thead>\n  <tbody>\n    <tr>\n      <th>math</th>\n      <td>53</td>\n      <td>51</td>\n      <td>95</td>\n      <td>75</td>\n    </tr>\n    <tr>\n      <th>science</th>\n      <td>81</td>\n      <td>81</td>\n      <td>99</td>\n      <td>90</td>\n    </tr>\n    <tr>\n      <th>english</th>\n      <td>90</td>\n      <td>61</td>\n      <td>55</td>\n      <td>88</td>\n    </tr>\n    <tr>\n      <th>art</th>\n      <td>82</td>\n      <td>62</td>\n      <td>88</td>\n      <td>90</td>\n    </tr>\n    <tr>\n      <th>gym</th>\n      <td>91</td>\n      <td>98</td>\n      <td>76</td>\n      <td>96</td>\n    </tr>\n  </tbody>\n</table>\n</div>",
            "text/plain": "         Ringo  John  Paul  George\nclasses                           \nmath        53    51    95      75\nscience     81    81    99      90\nenglish     90    61    55      88\nart         82    62    88      90\ngym         91    98    76      96"
          },
          "metadata": {}
        }
      ]
    },
    {
      "metadata": {
        "trusted": true
      },
      "cell_type": "code",
      "source": "#save the dataframe to a sqlite database\ndf.to_sql('grades', con=engine, if_exists='replace')",
      "execution_count": 29,
      "outputs": [
        {
          "output_type": "stream",
          "text": "2019-08-24 19:44:07,974 INFO sqlalchemy.engine.base.Engine SELECT CAST('test plain returns' AS VARCHAR(60)) AS anon_1\n2019-08-24 19:44:07,976 INFO sqlalchemy.engine.base.Engine ()\n2019-08-24 19:44:07,977 INFO sqlalchemy.engine.base.Engine SELECT CAST('test unicode returns' AS VARCHAR(60)) AS anon_1\n2019-08-24 19:44:07,983 INFO sqlalchemy.engine.base.Engine ()\n2019-08-24 19:44:07,984 INFO sqlalchemy.engine.base.Engine PRAGMA table_info(\"grades\")\n2019-08-24 19:44:07,986 INFO sqlalchemy.engine.base.Engine ()\n2019-08-24 19:44:08,013 INFO sqlalchemy.engine.base.Engine \nCREATE TABLE grades (\n\tclasses TEXT, \n\t\"Ringo\" BIGINT, \n\t\"John\" BIGINT, \n\t\"Paul\" BIGINT, \n\t\"George\" BIGINT\n)\n\n\n2019-08-24 19:44:08,016 INFO sqlalchemy.engine.base.Engine ()\n2019-08-24 19:44:08,177 INFO sqlalchemy.engine.base.Engine COMMIT\n2019-08-24 19:44:08,185 INFO sqlalchemy.engine.base.Engine CREATE INDEX ix_grades_classes ON grades (classes)\n2019-08-24 19:44:08,186 INFO sqlalchemy.engine.base.Engine ()\n2019-08-24 19:44:08,379 INFO sqlalchemy.engine.base.Engine COMMIT\n2019-08-24 19:44:08,463 INFO sqlalchemy.engine.base.Engine BEGIN (implicit)\n2019-08-24 19:44:08,467 INFO sqlalchemy.engine.base.Engine INSERT INTO grades (classes, \"Ringo\", \"John\", \"Paul\", \"George\") VALUES (?, ?, ?, ?, ?)\n2019-08-24 19:44:08,468 INFO sqlalchemy.engine.base.Engine (('math', 53, 51, 95, 75), ('science', 81, 81, 99, 90), ('english', 90, 61, 55, 88), ('art', 82, 62, 88, 90), ('gym', 91, 98, 76, 96))\n2019-08-24 19:44:08,507 INFO sqlalchemy.engine.base.Engine COMMIT\n",
          "name": "stdout"
        }
      ]
    },
    {
      "metadata": {
        "trusted": true
      },
      "cell_type": "code",
      "source": "#select from our newly created database to verify data is there\nresult = engine.execute('Select * from grades').fetchall()\nresult\n",
      "execution_count": 23,
      "outputs": [
        {
          "output_type": "execute_result",
          "execution_count": 23,
          "data": {
            "text/plain": "[('math', 60, 95, 86, 73),\n ('science', 55, 68, 97, 70),\n ('english', 99, 78, 75, 76),\n ('art', 78, 80, 52, 61),\n ('gym', 80, 67, 63, 69)]"
          },
          "metadata": {}
        }
      ]
    },
    {
      "metadata": {
        "trusted": true
      },
      "cell_type": "code",
      "source": "#read from a sql query into a dataframe\ndf = pd.read_sql('Select * from grades', engine, index_col = 'classes')\ndf",
      "execution_count": 24,
      "outputs": [
        {
          "output_type": "execute_result",
          "execution_count": 24,
          "data": {
            "text/html": "<div>\n<style scoped>\n    .dataframe tbody tr th:only-of-type {\n        vertical-align: middle;\n    }\n\n    .dataframe tbody tr th {\n        vertical-align: top;\n    }\n\n    .dataframe thead th {\n        text-align: right;\n    }\n</style>\n<table border=\"1\" class=\"dataframe\">\n  <thead>\n    <tr style=\"text-align: right;\">\n      <th></th>\n      <th>Ringo</th>\n      <th>John</th>\n      <th>Paul</th>\n      <th>George</th>\n    </tr>\n    <tr>\n      <th>classes</th>\n      <th></th>\n      <th></th>\n      <th></th>\n      <th></th>\n    </tr>\n  </thead>\n  <tbody>\n    <tr>\n      <th>math</th>\n      <td>60</td>\n      <td>95</td>\n      <td>86</td>\n      <td>73</td>\n    </tr>\n    <tr>\n      <th>science</th>\n      <td>55</td>\n      <td>68</td>\n      <td>97</td>\n      <td>70</td>\n    </tr>\n    <tr>\n      <th>english</th>\n      <td>99</td>\n      <td>78</td>\n      <td>75</td>\n      <td>76</td>\n    </tr>\n    <tr>\n      <th>art</th>\n      <td>78</td>\n      <td>80</td>\n      <td>52</td>\n      <td>61</td>\n    </tr>\n    <tr>\n      <th>gym</th>\n      <td>80</td>\n      <td>67</td>\n      <td>63</td>\n      <td>69</td>\n    </tr>\n  </tbody>\n</table>\n</div>",
            "text/plain": "         Ringo  John  Paul  George\nclasses                           \nmath        60    95    86      73\nscience     55    68    97      70\nenglish     99    78    75      76\nart         78    80    52      61\ngym         80    67    63      69"
          },
          "metadata": {}
        }
      ]
    },
    {
      "metadata": {
        "trusted": true
      },
      "cell_type": "code",
      "source": "#cleanup the sqlalchemy engine when we are done\nengine.dispose()\n",
      "execution_count": 8,
      "outputs": []
    }
  ],
  "metadata": {
    "kernelspec": {
      "name": "python36",
      "display_name": "Python 3.6",
      "language": "python"
    },
    "language_info": {
      "mimetype": "text/x-python",
      "nbconvert_exporter": "python",
      "name": "python",
      "pygments_lexer": "ipython3",
      "version": "3.6.6",
      "file_extension": ".py",
      "codemirror_mode": {
        "version": 3,
        "name": "ipython"
      }
    }
  },
  "nbformat": 4,
  "nbformat_minor": 2
}