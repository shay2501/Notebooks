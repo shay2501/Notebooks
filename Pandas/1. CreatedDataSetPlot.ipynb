{
  "cells": [
    {
      "metadata": {
        "trusted": true
      },
      "cell_type": "code",
      "source": "#import the libraries needed and manually create a dataset\nimport pandas as pd\nimport matplotlib.pyplot as plt\n\ndataset = {'rice':[4,5,6,7,8],\n            'beans': [3,6,7,8,1],\n            'pasta': [2,3,4,5,6],\n            'tomatoes': [1,1,1,1,1]}",
      "execution_count": 1,
      "outputs": []
    },
    {
      "metadata": {
        "trusted": true,
        "collapsed": true
      },
      "cell_type": "code",
      "source": "#create a pandas dataframe and display the columns\ndf = pd.DataFrame(dataset)\ndf.columns",
      "execution_count": 2,
      "outputs": [
        {
          "output_type": "execute_result",
          "execution_count": 2,
          "data": {
            "text/plain": "Index(['rice', 'beans', 'pasta', 'tomatoes'], dtype='object')"
          },
          "metadata": {}
        }
      ]
    },
    {
      "metadata": {
        "trusted": true,
        "collapsed": true
      },
      "cell_type": "code",
      "source": "#display the type of the beans column\ntype(df.beans)",
      "execution_count": 4,
      "outputs": [
        {
          "output_type": "execute_result",
          "execution_count": 4,
          "data": {
            "text/plain": "pandas.core.series.Series"
          },
          "metadata": {}
        }
      ]
    },
    {
      "metadata": {
        "trusted": true
      },
      "cell_type": "code",
      "source": "#display the rice pandas series/column\ndf['rice']",
      "execution_count": 7,
      "outputs": [
        {
          "output_type": "execute_result",
          "execution_count": 7,
          "data": {
            "text/plain": "0    4\n1    5\n2    6\n3    7\n4    8\nName: rice, dtype: int64"
          },
          "metadata": {}
        }
      ]
    },
    {
      "metadata": {
        "trusted": true
      },
      "cell_type": "code",
      "source": "#set the dataframe index to something meaningful and display\ndf.index = ['Jan', 'Feb', 'March', 'April', 'May']\ndf",
      "execution_count": 8,
      "outputs": [
        {
          "output_type": "execute_result",
          "execution_count": 8,
          "data": {
            "text/html": "<div>\n<style scoped>\n    .dataframe tbody tr th:only-of-type {\n        vertical-align: middle;\n    }\n\n    .dataframe tbody tr th {\n        vertical-align: top;\n    }\n\n    .dataframe thead th {\n        text-align: right;\n    }\n</style>\n<table border=\"1\" class=\"dataframe\">\n  <thead>\n    <tr style=\"text-align: right;\">\n      <th></th>\n      <th>rice</th>\n      <th>beans</th>\n      <th>pasta</th>\n      <th>tomatoes</th>\n    </tr>\n  </thead>\n  <tbody>\n    <tr>\n      <th>Jan</th>\n      <td>4</td>\n      <td>3</td>\n      <td>2</td>\n      <td>1</td>\n    </tr>\n    <tr>\n      <th>Feb</th>\n      <td>5</td>\n      <td>6</td>\n      <td>3</td>\n      <td>1</td>\n    </tr>\n    <tr>\n      <th>March</th>\n      <td>6</td>\n      <td>7</td>\n      <td>4</td>\n      <td>1</td>\n    </tr>\n    <tr>\n      <th>April</th>\n      <td>7</td>\n      <td>8</td>\n      <td>5</td>\n      <td>1</td>\n    </tr>\n    <tr>\n      <th>May</th>\n      <td>8</td>\n      <td>1</td>\n      <td>6</td>\n      <td>1</td>\n    </tr>\n  </tbody>\n</table>\n</div>",
            "text/plain": "       rice  beans  pasta  tomatoes\nJan       4      3      2         1\nFeb       5      6      3         1\nMarch     6      7      4         1\nApril     7      8      5         1\nMay       8      1      6         1"
          },
          "metadata": {}
        }
      ]
    },
    {
      "metadata": {
        "trusted": true
      },
      "cell_type": "code",
      "source": "#index a specific value in the dataframe, the amount of beans in January\ndf.beans['Jan']",
      "execution_count": 9,
      "outputs": [
        {
          "output_type": "execute_result",
          "execution_count": 9,
          "data": {
            "text/plain": "3"
          },
          "metadata": {}
        }
      ]
    },
    {
      "metadata": {
        "trusted": true
      },
      "cell_type": "code",
      "source": "#show beans data by slice Jan - March\ndf['beans']['Jan':'March']",
      "execution_count": 10,
      "outputs": [
        {
          "output_type": "execute_result",
          "execution_count": 10,
          "data": {
            "text/plain": "Jan      3\nFeb      6\nMarch    7\nName: beans, dtype: int64"
          },
          "metadata": {}
        }
      ]
    },
    {
      "metadata": {
        "trusted": true
      },
      "cell_type": "code",
      "source": "#slice beans column by numbered index instead of row label\ndf['beans'][0:2]",
      "execution_count": 11,
      "outputs": [
        {
          "output_type": "execute_result",
          "execution_count": 11,
          "data": {
            "text/plain": "Jan    3\nFeb    6\nName: beans, dtype: int64"
          },
          "metadata": {}
        }
      ]
    },
    {
      "metadata": {
        "trusted": true
      },
      "cell_type": "code",
      "source": "#display the type of the object returned from loc\ntype(df.loc['Jan'])",
      "execution_count": 13,
      "outputs": [
        {
          "output_type": "execute_result",
          "execution_count": 13,
          "data": {
            "text/plain": "pandas.core.series.Series"
          },
          "metadata": {}
        }
      ]
    },
    {
      "metadata": {
        "trusted": true
      },
      "cell_type": "code",
      "source": "#slicing a dataframe with loc\ndf.loc['Jan':'March',['beans', 'tomatoes']]",
      "execution_count": 17,
      "outputs": [
        {
          "output_type": "execute_result",
          "execution_count": 17,
          "data": {
            "text/html": "<div>\n<style scoped>\n    .dataframe tbody tr th:only-of-type {\n        vertical-align: middle;\n    }\n\n    .dataframe tbody tr th {\n        vertical-align: top;\n    }\n\n    .dataframe thead th {\n        text-align: right;\n    }\n</style>\n<table border=\"1\" class=\"dataframe\">\n  <thead>\n    <tr style=\"text-align: right;\">\n      <th></th>\n      <th>beans</th>\n      <th>tomatoes</th>\n    </tr>\n  </thead>\n  <tbody>\n    <tr>\n      <th>Jan</th>\n      <td>3</td>\n      <td>1</td>\n    </tr>\n    <tr>\n      <th>Feb</th>\n      <td>6</td>\n      <td>1</td>\n    </tr>\n    <tr>\n      <th>March</th>\n      <td>7</td>\n      <td>1</td>\n    </tr>\n  </tbody>\n</table>\n</div>",
            "text/plain": "       beans  tomatoes\nJan        3         1\nFeb        6         1\nMarch      7         1"
          },
          "metadata": {}
        }
      ]
    },
    {
      "metadata": {
        "trusted": true
      },
      "cell_type": "code",
      "source": "#displaying a dataframe of beans data\n#try finding the type of this data structure\ndf[['beans']]",
      "execution_count": 20,
      "outputs": [
        {
          "output_type": "execute_result",
          "execution_count": 20,
          "data": {
            "text/html": "<div>\n<style scoped>\n    .dataframe tbody tr th:only-of-type {\n        vertical-align: middle;\n    }\n\n    .dataframe tbody tr th {\n        vertical-align: top;\n    }\n\n    .dataframe thead th {\n        text-align: right;\n    }\n</style>\n<table border=\"1\" class=\"dataframe\">\n  <thead>\n    <tr style=\"text-align: right;\">\n      <th></th>\n      <th>beans</th>\n    </tr>\n  </thead>\n  <tbody>\n    <tr>\n      <th>Jan</th>\n      <td>3</td>\n    </tr>\n    <tr>\n      <th>Feb</th>\n      <td>6</td>\n    </tr>\n    <tr>\n      <th>March</th>\n      <td>7</td>\n    </tr>\n    <tr>\n      <th>April</th>\n      <td>8</td>\n    </tr>\n    <tr>\n      <th>May</th>\n      <td>1</td>\n    </tr>\n  </tbody>\n</table>\n</div>",
            "text/plain": "       beans\nJan        3\nFeb        6\nMarch      7\nApril      8\nMay        1"
          },
          "metadata": {}
        }
      ]
    },
    {
      "metadata": {
        "trusted": true
      },
      "cell_type": "code",
      "source": "#show that we can get numpy arrays and all the functionality that brings\ntype(df.beans['Jan'])",
      "execution_count": 23,
      "outputs": [
        {
          "output_type": "execute_result",
          "execution_count": 23,
          "data": {
            "text/plain": "numpy.int64"
          },
          "metadata": {}
        }
      ]
    },
    {
      "metadata": {
        "trusted": true
      },
      "cell_type": "code",
      "source": "#notice that the extra brackets turn an array to a dataframe\ntype(df.loc[['Jan']])",
      "execution_count": 25,
      "outputs": [
        {
          "output_type": "execute_result",
          "execution_count": 25,
          "data": {
            "text/plain": "pandas.core.frame.DataFrame"
          },
          "metadata": {}
        }
      ]
    },
    {
      "metadata": {
        "trusted": true
      },
      "cell_type": "code",
      "source": "#plot the dataframe\nplt.plot(df)\nplt.ylabel('Sales of beans in pounds')\nplt.show()",
      "execution_count": 30,
      "outputs": [
        {
          "output_type": "display_data",
          "data": {
            "image/png": "[encoded data removed]",
            "text/plain": "<Figure size 432x288 with 1 Axes>"
          },
          "metadata": {
            "needs_background": "light"
          }
        }
      ]
    }
  ],
  "metadata": {
    "kernelspec": {
      "name": "python36",
      "display_name": "Python 3.6",
      "language": "python"
    },
    "language_info": {
      "mimetype": "text/x-python",
      "nbconvert_exporter": "python",
      "name": "python",
      "pygments_lexer": "ipython3",
      "version": "3.6.6",
      "file_extension": ".py",
      "codemirror_mode": {
        "version": 3,
        "name": "ipython"
      }
    }
  },
  "nbformat": 4,
  "nbformat_minor": 1
}